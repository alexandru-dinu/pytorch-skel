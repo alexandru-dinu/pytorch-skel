{
 "cells": [
  {
   "cell_type": "code",
   "execution_count": null,
   "metadata": {},
   "outputs": [],
   "source": [
    "sys.path.insert(0, '..')\n",
    "\n",
    "import bagoftools\n",
    "print(f'version: {bagoftools.__version__}')\n",
    "\n",
    "from bagoftools.imports import *\n",
    "from bagoftools.logger import Logger\n",
    "from bagoftools.config import Config\n",
    "import bagoftools.plotting as plotting\n",
    "import bagoftools.processing as processing\n",
    "\n",
    "%matplotlib inline\n",
    "%config InlineBackend.figure_format = 'retina'\n",
    "sns.set()"
   ]
  },
  {
   "cell_type": "code",
   "execution_count": null,
   "metadata": {},
   "outputs": [],
   "source": [
    "log = Logger(name='jupyter', colorize=False)"
   ]
  },
  {
   "cell_type": "code",
   "execution_count": null,
   "metadata": {},
   "outputs": [],
   "source": [
    "log.debug('hello!')\n",
    "log.info('hello!')\n",
    "log.warning('hello!')\n",
    "log.error('hello!')\n",
    "log.critical('hello!')"
   ]
  }
 ],
 "metadata": {
  "kernelspec": {
   "display_name": "Python 3",
   "language": "python",
   "name": "python3"
  },
  "language_info": {
   "codemirror_mode": {
    "name": "ipython",
    "version": 3
   },
   "file_extension": ".py",
   "mimetype": "text/x-python",
   "name": "python",
   "nbconvert_exporter": "python",
   "pygments_lexer": "ipython3",
   "version": "3.7.9"
  }
 },
 "nbformat": 4,
 "nbformat_minor": 4
}
