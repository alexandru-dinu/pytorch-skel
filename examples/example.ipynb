{
 "cells": [
  {
   "cell_type": "code",
   "execution_count": null,
   "metadata": {},
   "outputs": [],
   "source": [
    "import sys\n",
    "sys.path.insert(0, '..')\n",
    "\n",
    "import bagoftools\n",
    "print(f'version: {bagoftools.__version__}')\n",
    "\n",
    "from bagoftools.logger import Logger\n",
    "from bagoftools.namespace import Namespace\n",
    "import bagoftools.plotting as plotting\n",
    "import bagoftools.processing as processing\n",
    "\n",
    "import seaborn as sns\n",
    "\n",
    "%matplotlib inline\n",
    "%config InlineBackend.figure_format = 'retina'\n",
    "sns.set()"
   ]
  },
  {
   "cell_type": "code",
   "execution_count": null,
   "metadata": {},
   "outputs": [],
   "source": [
    "log = Logger(name='jupyter', colorize=False)"
   ]
  },
  {
   "cell_type": "code",
   "execution_count": null,
   "metadata": {},
   "outputs": [],
   "source": [
    "log.debug('hello!')\n",
    "log.info('hello!')\n",
    "log.warning('hello!')\n",
    "log.error('hello!')\n",
    "log.critical('hello!')"
   ]
  },
  {
   "cell_type": "code",
   "execution_count": null,
   "metadata": {},
   "outputs": [],
   "source": [
    "ns = Namespace(**{\n",
    "    'x': 1,\n",
    "    'y': {\n",
    "        'a': 3.14,\n",
    "        'b': 2.71\n",
    "    }\n",
    "})\n",
    "\n",
    "ns.y.a"
   ]
  }
 ],
 "metadata": {
  "kernelspec": {
   "display_name": "Python 3.7",
   "language": "python",
   "name": "python3"
  },
  "language_info": {
   "codemirror_mode": {
    "name": "ipython",
    "version": 3
   },
   "file_extension": ".py",
   "mimetype": "text/x-python",
   "name": "python",
   "nbconvert_exporter": "python",
   "pygments_lexer": "ipython3",
   "version": "3.7.9"
  }
 },
 "nbformat": 4,
 "nbformat_minor": 4
}
